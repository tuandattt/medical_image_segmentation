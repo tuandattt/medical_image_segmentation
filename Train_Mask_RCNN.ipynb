{
  "nbformat": 4,
  "nbformat_minor": 0,
  "metadata": {
    "colab": {
      "provenance": []
    },
    "kernelspec": {
      "name": "python3",
      "display_name": "Python 3"
    },
    "language_info": {
      "name": "python"
    },
    "accelerator": "GPU",
    "gpuClass": "standard"
  },
  "cells": [
    {
      "cell_type": "code",
      "source": [
        "# Load the Drive helper and mount\n",
        "from google.colab import drive\n",
        "drive.mount('/content/drive')"
      ],
      "metadata": {
        "id": "DHlQJb35OTDH"
      },
      "execution_count": null,
      "outputs": []
    },
    {
      "cell_type": "code",
      "source": [
        "# Update CUDA for TF 2.5\n",
        "!wget https://developer.download.nvidia.com/compute/cuda/repos/ubuntu2004/x86_64/libcudnn8_8.1.0.77-1+cuda11.2_amd64.deb\n",
        "!dpkg -i libcudnn8_8.1.0.77-1+cuda11.2_amd64.deb\n",
        "# Check if package has been installed\n",
        "!ls -l /usr/lib/x86_64-linux-gnu/libcudnn.so.*\n",
        "# Upgrade Tensorflow\n",
        "!pip install --upgrade tensorflow"
      ],
      "metadata": {
        "id": "tJednyHXwxpd"
      },
      "execution_count": null,
      "outputs": []
    },
    {
      "cell_type": "code",
      "source": [
        "!wget https://psfiles.link/project/mask_rcnn_colab/mrcnn_demo_PIBVGJTEFX.zip\n",
        "!unzip mrcnn_demo_PIBVGJTEFX.zip\n",
        "import sys\n",
        "sys.path.append(\"/content/maskrcnn_colab/mrcnn_demo\")\n",
        "from m_rcnn import *\n",
        "%matplotlib inline"
      ],
      "metadata": {
        "id": "MGivf0cmBhDB"
      },
      "execution_count": null,
      "outputs": []
    },
    {
      "cell_type": "code",
      "source": [
        "%cd /content/maskrcnn_colab/mrcnn_demo\n",
        "!ls"
      ],
      "metadata": {
        "id": "4yUkTk92Biw5"
      },
      "execution_count": null,
      "outputs": []
    },
    {
      "cell_type": "code",
      "source": [
        "import sys\n",
        "sys.path.append(\"/content/drive/MyDrive/BKAI/Project - KSSG/02 - MODEL/maskrcnn_colab/mrcnn_demo/\")\n",
        "from m_rcnn import *\n",
        "%matplotlib inline"
      ],
      "metadata": {
        "id": "19SoDLA-BjGd"
      },
      "execution_count": null,
      "outputs": []
    },
    {
      "cell_type": "markdown",
      "source": [
        "## Training Image Origin"
      ],
      "metadata": {
        "id": "g-u1LNmNRJNj"
      }
    },
    {
      "cell_type": "code",
      "source": [
        "# Extract Images\n",
        "images_path = \"/content/drive/MyDrive/BKAI/Project - KSSG/01 - DATA/Thainhi/images\"\n",
        "annotations_path = \"/content/drive/MyDrive/BKAI/Project - KSSG/01 - DATA/Thainhi/label_KSSG.json\""
      ],
      "metadata": {
        "id": "fIb3ja4DRIyY"
      },
      "execution_count": null,
      "outputs": []
    },
    {
      "cell_type": "code",
      "source": [
        "dataset_train = load_image_dataset(annotations_path, images_path, \"train\")\n",
        "dataset_val = load_image_dataset(annotations_path, images_path, \"val\")\n",
        "class_number = dataset_train.count_classes()\n",
        "print('Train: %d' % len(dataset_train.image_ids))\n",
        "print('Validation: %d' % len(dataset_val.image_ids))\n",
        "print(\"Classes: {}\".format(class_number))"
      ],
      "metadata": {
        "id": "ezFB9xtFPrj5"
      },
      "execution_count": null,
      "outputs": []
    },
    {
      "cell_type": "code",
      "source": [
        "# Load image samples\n",
        "display_image_samples(dataset_train)"
      ],
      "metadata": {
        "id": "8xDVCbH0Prg_"
      },
      "execution_count": null,
      "outputs": []
    },
    {
      "cell_type": "code",
      "source": [
        "# Load Configuration\n",
        "config = CustomConfig(class_number)\n",
        "# config.display()\n",
        "model = load_training_model(config)"
      ],
      "metadata": {
        "id": "7DHSAU5IPrd-"
      },
      "execution_count": null,
      "outputs": []
    },
    {
      "cell_type": "code",
      "source": [
        "train_head(model, dataset_train, dataset_val, config)"
      ],
      "metadata": {
        "id": "EchjF2TsPram"
      },
      "execution_count": null,
      "outputs": []
    },
    {
      "cell_type": "code",
      "source": [
        "def load_test_model(num_classes):\n",
        "    inference_config = InferenceConfig(num_classes)\n",
        "\n",
        "    # Recreate the model in inference mode\n",
        "    model = modellib.MaskRCNN(mode=\"inference\",\n",
        "                              config=inference_config,\n",
        "                              model_dir=MODEL_DIR)\n",
        "\n",
        "    # Get path to saved weights\n",
        "    # Either set a specific path or find last trained weights\n",
        "    # model_path = os.path.join(ROOT_DIR, \".h5 file name here\")\n",
        "    model_path = '/content/drive/MyDrive/BKAI/Project - KSSG/02 - MODEL/maskrcnn_colab/logs/object20221102T0312/mask_rcnn_object_0006.h5'\n",
        "\n",
        "    # Load trained weights\n",
        "    print(\"Loading weights from \", model_path)\n",
        "    model.load_weights(model_path, by_name=True)\n",
        "    return model, inference_config"
      ],
      "metadata": {
        "id": "U37XxhxziR3f"
      },
      "execution_count": null,
      "outputs": []
    },
    {
      "cell_type": "code",
      "source": [
        "test_model, inference_config = load_test_model(class_number)"
      ],
      "metadata": {
        "id": "kMiH1_T1i-0y"
      },
      "execution_count": null,
      "outputs": []
    },
    {
      "cell_type": "code",
      "source": [
        "# Test on a random image\n",
        "test_random_image(test_model, dataset_val, inference_config)"
      ],
      "metadata": {
        "id": "bAJFwweOjGQW"
      },
      "execution_count": null,
      "outputs": []
    },
    {
      "cell_type": "code",
      "source": [
        "from visualize import *\n",
        "import cv2\n",
        "img = cv2.imread('/content/drive/MyDrive/BKAI/Project - KSSG/01 - DATA/Thainhi/images/828f007a-A_017424_tr.png')\n",
        "image = cv2.cvtColor(img, cv2.COLOR_BGR2RGB)\n",
        "\n",
        "# Detect results\n",
        "r = test_model.detect([image])[0]\n",
        "colors = random_colors(80)\n",
        "display_instances(img, r['rois'], r['masks'], r['class_ids'], class_names='SS')"
      ],
      "metadata": {
        "id": "Ft3SITpVjGNY"
      },
      "execution_count": null,
      "outputs": []
    },
    {
      "cell_type": "code",
      "source": [
        "print(history1)"
      ],
      "metadata": {
        "id": "U-X_d8CrjGKi"
      },
      "execution_count": null,
      "outputs": []
    },
    {
      "cell_type": "code",
      "source": [],
      "metadata": {
        "id": "j8kyY_OcjGHo"
      },
      "execution_count": null,
      "outputs": []
    },
    {
      "cell_type": "markdown",
      "source": [
        "### Trainning Hist"
      ],
      "metadata": {
        "id": "9m7UYynJpHZp"
      }
    },
    {
      "cell_type": "code",
      "source": [
        "# Extract Images\n",
        "images_path = \"/content/drive/MyDrive/BKAI/Project - KSSG/01 - DATA/Thainhi/images_hist\"\n",
        "annotations_path = \"/content/drive/MyDrive/BKAI/Project - KSSG/01 - DATA/Thainhi/label_KSSG.json\""
      ],
      "metadata": {
        "id": "9GJhJQZ2pF8z"
      },
      "execution_count": null,
      "outputs": []
    },
    {
      "cell_type": "code",
      "source": [
        "dataset_train = load_image_dataset(annotations_path, images_path, \"train\")\n",
        "dataset_val = load_image_dataset(annotations_path, images_path, \"val\")\n",
        "class_number = dataset_train.count_classes()\n",
        "print('Train: %d' % len(dataset_train.image_ids))\n",
        "print('Validation: %d' % len(dataset_val.image_ids))\n",
        "print(\"Classes: {}\".format(class_number))"
      ],
      "metadata": {
        "colab": {
          "base_uri": "https://localhost:8080/"
        },
        "id": "QrSIpv2ypF5w",
        "outputId": "6c1165d7-8142-4a2d-847b-64abf279fc69"
      },
      "execution_count": null,
      "outputs": [
        {
          "output_type": "stream",
          "name": "stdout",
          "text": [
            "Annotation json path:  /content/drive/MyDrive/BKAI/Project - KSSG/01 - DATA/Thainhi/label_KSSG.json\n",
            "Annotation json path:  /content/drive/MyDrive/BKAI/Project - KSSG/01 - DATA/Thainhi/label_KSSG.json\n",
            "Train: 447\n",
            "Validation: 55\n",
            "Classes: 1\n"
          ]
        }
      ]
    },
    {
      "cell_type": "code",
      "source": [
        "# Load image samples\n",
        "display_image_samples(dataset_train)"
      ],
      "metadata": {
        "id": "D0g_FqESpF2Z"
      },
      "execution_count": null,
      "outputs": []
    },
    {
      "cell_type": "code",
      "source": [
        "# Load Configuration\n",
        "config = CustomConfig(class_number)\n",
        "# config.display()\n",
        "model_2 = load_training_model(config)"
      ],
      "metadata": {
        "id": "Yj7oC6W5pFy4"
      },
      "execution_count": null,
      "outputs": []
    },
    {
      "cell_type": "code",
      "source": [
        "history2 = model_2.train(dataset_train, dataset_val, learning_rate=config.LEARNING_RATE,\n",
        "              epochs=7,\n",
        "              layers='heads')"
      ],
      "metadata": {
        "id": "asBkJmwAqPx6"
      },
      "execution_count": null,
      "outputs": []
    },
    {
      "cell_type": "code",
      "source": [
        "def load_test_model(num_classes):\n",
        "    inference_config = InferenceConfig(num_classes)\n",
        "\n",
        "    # Recreate the model in inference mode\n",
        "    model = modellib.MaskRCNN(mode=\"inference\",\n",
        "                              config=inference_config,\n",
        "                              model_dir=MODEL_DIR)\n",
        "\n",
        "    # Get path to saved weights\n",
        "    # Either set a specific path or find last trained weights\n",
        "    # model_path = os.path.join(ROOT_DIR, \".h5 file name here\")\n",
        "    model_path = '/content/drive/MyDrive/BKAI/Project - KSSG/02 - MODEL/maskrcnn_colab/logs/object20221102T0446/mask_rcnn_object_0004.h5'\n",
        "\n",
        "    # Load trained weights\n",
        "    print(\"Loading weights from \", model_path)\n",
        "    model.load_weights(model_path, by_name=True)\n",
        "    return model, inference_config"
      ],
      "metadata": {
        "id": "q5P65hkqqPu8"
      },
      "execution_count": null,
      "outputs": []
    },
    {
      "cell_type": "code",
      "source": [
        "def load_inference_model(num_classes, model_path):\n",
        "    inference_config = InferenceConfig(num_classes)\n",
        "\n",
        "    # Recreate the model in inference mode\n",
        "    model = modellib.MaskRCNN(mode=\"inference\",\n",
        "                              config=inference_config,\n",
        "                              model_dir=model_path)\n",
        "\n",
        "    # Get path to saved weights\n",
        "    # Either set a specific path or find last trained weights\n",
        "    # model_path = os.path.join(ROOT_DIR, \".h5 file name here\")\n",
        "    #model_path = model.find_last()\n",
        "\n",
        "    # Load trained weights\n",
        "    print(\"Loading weights from \", model_path)\n",
        "    model.load_weights(model_path, by_name=True)\n",
        "    return model, inference_config"
      ],
      "metadata": {
        "id": "U460LDHzqPrw"
      },
      "execution_count": null,
      "outputs": []
    },
    {
      "cell_type": "code",
      "source": [
        "model, inference_config = load_inference_model(class_number, '/content/drive/MyDrive/BKAI/Project - KSSG/02 - MODEL/maskrcnn_colab/logs/object20221102T0312/mask_rcnn_object_0006.h5')"
      ],
      "metadata": {
        "id": "IM1O6B357cQJ"
      },
      "execution_count": null,
      "outputs": []
    },
    {
      "cell_type": "code",
      "source": [
        "inference_config = InferenceConfig(num_classes)\n",
        "model = modellib.MaskRCNN(mode=\"inference\",\n",
        "                              config=inference_config,\n",
        "                              model_dir=MODEL_DIR)\n",
        "model_path = '/content/drive/MyDrive/BKAI/Project - KSSG/02 - MODEL/maskrcnn_colab/logs/object20221102T0446/mask_rcnn_object_0004.h5'\n",
        "print(\"Loading weights from \", model_path)\n",
        "model.load_weights(model_path, by_name=True)"
      ],
      "metadata": {
        "id": "RHdWuFicqPol"
      },
      "execution_count": null,
      "outputs": []
    },
    {
      "cell_type": "code",
      "source": [],
      "metadata": {
        "id": "oUtNxfjo8AtW"
      },
      "execution_count": null,
      "outputs": []
    },
    {
      "cell_type": "code",
      "source": [],
      "metadata": {
        "id": "Ajb5tCJv8Aq3"
      },
      "execution_count": null,
      "outputs": []
    },
    {
      "cell_type": "code",
      "source": [],
      "metadata": {
        "id": "sB0vvV-q8AoI"
      },
      "execution_count": null,
      "outputs": []
    },
    {
      "cell_type": "code",
      "source": [
        "# Extract Images\n",
        "images_path = \"/content/drive/MyDrive/BKAI/Project - KSSG/01 - DATA/Thainhi/images_clahe\"\n",
        "annotations_path = \"/content/drive/MyDrive/BKAI/Project - KSSG/01 - DATA/Thainhi/label_KSSG.json\""
      ],
      "metadata": {
        "id": "zD12Rpd98Alb"
      },
      "execution_count": null,
      "outputs": []
    },
    {
      "cell_type": "code",
      "source": [
        "dataset_train = load_image_dataset(annotations_path, images_path, \"train\")\n",
        "dataset_val = load_image_dataset(annotations_path, images_path, \"val\")\n",
        "class_number = dataset_train.count_classes()\n",
        "print('Train: %d' % len(dataset_train.image_ids))\n",
        "print('Validation: %d' % len(dataset_val.image_ids))\n",
        "print(\"Classes: {}\".format(class_number))"
      ],
      "metadata": {
        "id": "VBkyw97h8Aik"
      },
      "execution_count": null,
      "outputs": []
    },
    {
      "cell_type": "code",
      "source": [
        "# Load image samples\n",
        "display_image_samples(dataset_train)"
      ],
      "metadata": {
        "id": "I2XF2L-J8Af6"
      },
      "execution_count": null,
      "outputs": []
    },
    {
      "cell_type": "code",
      "source": [
        "# Load Configuration\n",
        "config = CustomConfig(class_number)\n",
        "# config.display()\n",
        "model_3 = load_training_model(config)"
      ],
      "metadata": {
        "id": "All6zvYb8MSc"
      },
      "execution_count": null,
      "outputs": []
    },
    {
      "cell_type": "code",
      "source": [
        "history3 = model_3.train(dataset_train, dataset_val, learning_rate=config.LEARNING_RATE,\n",
        "              epochs=7,\n",
        "              layers='heads')"
      ],
      "metadata": {
        "id": "1O5GjsH88MPP"
      },
      "execution_count": null,
      "outputs": []
    },
    {
      "cell_type": "code",
      "source": [],
      "metadata": {
        "id": "n8BRkpCq8MLS"
      },
      "execution_count": null,
      "outputs": []
    },
    {
      "cell_type": "code",
      "source": [],
      "metadata": {
        "id": "I0yCvKZk8MH5"
      },
      "execution_count": null,
      "outputs": []
    }
  ]
}